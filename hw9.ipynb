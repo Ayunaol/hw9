{
 "cells": [
  {
   "cell_type": "markdown",
   "metadata": {},
   "source": [
    "**Задание 1.** Напишите функцию, которая принимает на вход строку и проверяет является ли она валидным транспортным номером. Если да, то функция должна возвращать отдельно номер и регион."
   ]
  },
  {
   "cell_type": "code",
   "execution_count": 1,
   "metadata": {},
   "outputs": [
    {
     "name": "stdout",
     "output_type": "stream",
     "text": [
      "The number: н191ву, the region: 138\n"
     ]
    }
   ],
   "source": [
    "import re\n",
    "\n",
    "num = 'н191ву138'\n",
    "regex_num = '([а-яА-Я]{1}[\\d]{3}[а-яА-Я]{2})([\\d]{2,3})$'\n",
    "\n",
    "def gos_number(num):\n",
    "    if re.search(regex_num, num):\n",
    "        list_num = list(re.findall(regex_num, num)[0])\n",
    "        print(f'The number: {list_num[0]}, the region: {list_num[1]}')\n",
    "    else:\n",
    "        print('The number {} is invalid'.format(num)) \n",
    "\n",
    "gos_number(num)"
   ]
  },
  {
   "cell_type": "markdown",
   "metadata": {},
   "source": [
    "**Задание 2**. Напишите функцию, которая проверяет e-mail адрес на валидность по стандарту RFC822: http://www.w3.org/Protocols/rfc822/. Для этого постарайтесь написать (в крайнем случае найти) самый полный шаблон для проверки e-mail адресов через регулярное выражение. Разберитесь и напишите примеры, какие ваш шаблон может не охватить."
   ]
  },
  {
   "cell_type": "code",
   "execution_count": 6,
   "metadata": {},
   "outputs": [
    {
     "name": "stdout",
     "output_type": "stream",
     "text": [
      "email Ayuna.olzoeva@gmail.com is valid\n",
      "email !@#$%^bob&^%$POIUYT@smith.com is valid\n",
      "email !@#$%^bob&^%$POIUYT@smith.c&om is INvalid\n",
      "email ???????@send.meJOHN@server.department.company.name is valid\n",
      "email john@server.department.company.nam is INvalid\n"
     ]
    }
   ],
   "source": [
    "emails = ['Ayuna.olzoeva@gmail.com', \n",
    "          '!@#$%^bob&^%$POIUYT@smith.com', \n",
    "          '!@#$%^bob&^%$POIUYT@smith.c&om',\n",
    "          '???????@send.me'\n",
    "          'JOHN@server.department.company.name', \n",
    "          'john@server.department.company.nam']\n",
    "          \n",
    "regex_email = r'[a-z0-9!#$%&\\'*+\\/=?^_`{|}~-]+(?:\\.[a-z0-9!#$%&\\'*+\\/=?^_`{|}~-]+)*@(?:[a-z0-9](?:[a-z0-9-]*[a-z0-9])?\\.)+(?:[A-Z]{2}|com|org|net|edu|gov|mil|biz|info|mobi|name|aero|asia|jobs|museum)\\b'\n",
    "# Если выражение берётся в скобки только для применения к ней квантификатора \n",
    "# (не планируется запоминать результат поиска по этой группе), \n",
    "# то сразу после первой скобки стоит добавить ?:\n",
    "\n",
    "regex_email_beauty = r'[a-z0-9!#$%&\\'*+\\/=?^_`{|}~-]+\\\n",
    "                       (?:\\.[a-z0-9!#$%&\\'*+\\/=?^_`{|}~-]+)*\\\n",
    "                       @(?:[a-z0-9](?:[a-z0-9-]*[a-z0-9])?\\.)+\\\n",
    "                       (?:[A-Z]{2}|com|org|net|edu|gov|mil|biz|info|mobi|name|aero|asia|jobs|museum)\\b'\n",
    "\n",
    "\n",
    "def check_email(pattern, emails):\n",
    "    for email in emails:\n",
    "        if re.search(pattern, email, re.I):\n",
    "            print(f'email {email} is valid')\n",
    "        else:\n",
    "            print(f'email {email} is INvalid')\n",
    "                  \n",
    "check_email(regex_email, emails)"
   ]
  },
  {
   "cell_type": "markdown",
   "metadata": {},
   "source": [
    "**Задание 3.** Напишите функцию, которая будет удалять все последовательные повторы слов из заданной строки при помощи регулярных выражений."
   ]
  },
  {
   "cell_type": "code",
   "execution_count": 57,
   "metadata": {},
   "outputs": [
    {
     "name": "stdout",
     "output_type": "stream",
     "text": [
      "monday tuesday wednesday thursday friday tuesday\n"
     ]
    }
   ],
   "source": [
    "import re\n",
    "given_string = 'monday monday tuesday wednesday wednesday thursday thursday friday tuesday tuesday Tuesday'\n",
    "print(re.sub(r'\\b([^\\W\\d_]+)(\\s+\\1)+\\b', r'\\1', re.sub(r'\\W+', ' ', given_string).strip(), flags = re.I))"
   ]
  },
  {
   "cell_type": "markdown",
   "metadata": {},
   "source": [
    "**Задание 4**. Напишите функцию, которая будет проверять номер сотового телефона на валидность, если он валиден, то переводить его в формат:   \n",
    "+7(xxx)-xxx-xx-xx  \n",
    "Постарайтесь предусмотреть как можно больше адекватных форматов изначального ввода номера.\n",
    "Примеры валидных форматов:\n",
    "- +7 955 555-55-55;\n",
    "- 9555555555;\n",
    "- 8(955)555-55-55;\n",
    "- +7 955 555 55 55;\n",
    "- 7(955) 555-55-55;\n",
    "- +7 955+555+55+55."
   ]
  },
  {
   "cell_type": "code",
   "execution_count": 97,
   "metadata": {},
   "outputs": [
    {
     "name": "stdout",
     "output_type": "stream",
     "text": [
      "number +7 955 555-55-55 is valid, \n",
      "correct form: +7(955)-555-55-55\n",
      "\n",
      "number 9555555555 is valid, \n",
      "correct form: +7(955)-555-55-55\n",
      "\n",
      "number 8(955)555-55-55 is valid, \n",
      "correct form: +7(955)-555-55-55\n",
      "\n",
      "number 8(955)555-55-55 is valid, \n",
      "correct form: +7(955)-555-55-55\n",
      "\n",
      "number +7 955 555 55 55 is valid, \n",
      "correct form: +7(955)-555-55-55\n",
      "\n",
      "number 7(955) 555-55-55f is INvalid\n",
      "\n",
      "number +7 955+555+55+55 is valid, \n",
      "correct form: +7(955)-555-55-55\n",
      "\n"
     ]
    }
   ],
   "source": [
    "import re\n",
    "numbers = ['+7 955 555-55-55',\n",
    "           '9555555555',\n",
    "           '8(955)555-55-55',\n",
    "           '8(955)555-55-55',\n",
    "           '+7 955 555 55 55',\n",
    "           '7(955) 555-55-55f',\n",
    "           '+7 955+555+55+55']\n",
    "\n",
    "regex_number = r'^(\\+)?(\\(\\d{2,3}\\) ?\\d|\\d)(([ \\-|\\+]?\\d)|( ?\\(\\d{2,3}\\) ?)){5,12}\\d$'\n",
    "\n",
    "def check_num(pattern, numbers):\n",
    "    for number in numbers:\n",
    "        if re.search(pattern, number):\n",
    "            correct_num = re.sub('\\D', '', number)\n",
    "            #new_pattern = r'\\+\\d\\(\\d{3}\\)\\-\\d{3}\\-\\d{2}\\-\\d{2}'\n",
    "            if(len(correct_num) == 10):\n",
    "                correct_num = '+7' + '(' + correct_num[0:3] + ')' + '-' + correct_num[3:6] + '-' +\\\n",
    "                                correct_num[6:8] + '-' + correct_num[8:]\n",
    "                print(f'number {number} is valid, \\ncorrect form: {correct_num}\\n')\n",
    "                \n",
    "            elif(correct_num[0] == '8'):\n",
    "                correct_num = '+7' + '(' + correct_num[1:4] + ')' + '-' + correct_num[4:7] + '-' +\\\n",
    "                                correct_num[7:9] + '-' + correct_num[9:]\n",
    "                print(f'number {number} is valid, \\ncorrect form: {correct_num}\\n')\n",
    "                \n",
    "            else:\n",
    "                correct_num = '+' + correct_num[0] + '(' + correct_num[1:4] + ')' + '-' + correct_num[4:7] + '-' +\\\n",
    "                                correct_num[7:9] + '-' + correct_num[9:]\n",
    "                print(f'number {number} is valid, \\ncorrect form: {correct_num}\\n')\n",
    "                \n",
    "        else:\n",
    "            print(f'number {number} is INvalid\\n')\n",
    "                  \n",
    "check_num(regex_number, numbers)"
   ]
  },
  {
   "cell_type": "code",
   "execution_count": null,
   "metadata": {},
   "outputs": [],
   "source": []
  }
 ],
 "metadata": {
  "kernelspec": {
   "display_name": "Python 3",
   "language": "python",
   "name": "python3"
  },
  "language_info": {
   "codemirror_mode": {
    "name": "ipython",
    "version": 3
   },
   "file_extension": ".py",
   "mimetype": "text/x-python",
   "name": "python",
   "nbconvert_exporter": "python",
   "pygments_lexer": "ipython3",
   "version": "3.7.4"
  }
 },
 "nbformat": 4,
 "nbformat_minor": 2
}
